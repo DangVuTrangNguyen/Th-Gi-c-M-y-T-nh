{
 "cells": [
  {
   "cell_type": "code",
   "execution_count": 2,
   "id": "4008b0a7-1de6-48ca-9fa6-cc38e86dba5b",
   "metadata": {},
   "outputs": [],
   "source": [
    "# !pip install scipy"
   ]
  },
  {
   "cell_type": "code",
   "execution_count": 3,
   "id": "1726cc45-fcaa-4cc7-b164-2cd9cecaa2b9",
   "metadata": {},
   "outputs": [],
   "source": [
    "from scipy import linalg\n",
    "import numpy as np"
   ]
  },
  {
   "cell_type": "code",
   "execution_count": 9,
   "id": "87d22fb8-7f03-447f-9b93-411497056d58",
   "metadata": {},
   "outputs": [
    {
     "name": "stdout",
     "output_type": "stream",
     "text": [
      "Kết quả:  [[-0.125  1.375]\n",
      " [ 0.625  0.125]]\n"
     ]
    }
   ],
   "source": [
    "# Định nghĩa hệ phương trình tuyến tính\n",
    "A = np.array([[2, 2],[1, -3]])\n",
    "b = np.array([[1, 3],[-2, 1]])\n",
    "# Giải hệ phương trình tuyến tính\n",
    "x = linalg.solve(A, b)\n",
    "print(\"Kết quả: \", x)"
   ]
  },
  {
   "cell_type": "code",
   "execution_count": 13,
   "id": "e03f0c76-d6f9-40f6-a3f5-2524f776292a",
   "metadata": {},
   "outputs": [
    {
     "name": "stdout",
     "output_type": "stream",
     "text": [
      "Tích phân f(x) từ 1 đến 2:  (-23.999999999999996, 2.664535259100375e-13)\n"
     ]
    }
   ],
   "source": [
    "# Tính tích phân của một hàm số\n",
    "from scipy import integrate\n",
    "\n",
    "# Định nghĩa hàm f(x) = x^2\n",
    "def my_function(x):\n",
    "    return 2*x**3-16;\n",
    "\n",
    "# Tính tích phân của f(x) từ 0 đến 1\n",
    "integral = integrate.quad(my_function, 0, 2);\n",
    "print(\"Tích phân f(x) từ 1 đến 2: \", integral)"
   ]
  },
  {
   "cell_type": "code",
   "execution_count": 16,
   "id": "24a8c718-b316-49e4-a84a-f53cf0704994",
   "metadata": {},
   "outputs": [
    {
     "name": "stdout",
     "output_type": "stream",
     "text": [
      "Giá trị riêng:  [4.+8.53740876e-08j 4.-8.53740876e-08j]\n",
      "Vector riêng:  [[-0.5547002 -7.89283719e-09j -0.5547002 +7.89283719e-09j]\n",
      " [ 0.83205029+0.00000000e+00j  0.83205029-0.00000000e+00j]]\n"
     ]
    }
   ],
   "source": [
    "from scipy import linalg\n",
    "import numpy as np\n",
    "\n",
    "# Tính giá trị riêng và vector riêng của một ma trận:\n",
    "A = np.array([[10,4], [-9,-2]])\n",
    "\n",
    "# Tính giá trị riêng và vector riêng của ma trận\n",
    "evals, evecs = linalg.eig(A)\n",
    "\n",
    "print(\"Giá trị riêng: \", evals)\n",
    "print(\"Vector riêng: \", evecs)"
   ]
  },
  {
   "cell_type": "code",
   "execution_count": null,
   "id": "1844a2af-b767-4385-8309-59165f8ec5d7",
   "metadata": {},
   "outputs": [],
   "source": []
  }
 ],
 "metadata": {
  "kernelspec": {
   "display_name": "Python 3 (ipykernel)",
   "language": "python",
   "name": "python3"
  },
  "language_info": {
   "codemirror_mode": {
    "name": "ipython",
    "version": 3
   },
   "file_extension": ".py",
   "mimetype": "text/x-python",
   "name": "python",
   "nbconvert_exporter": "python",
   "pygments_lexer": "ipython3",
   "version": "3.12.4"
  }
 },
 "nbformat": 4,
 "nbformat_minor": 5
}
